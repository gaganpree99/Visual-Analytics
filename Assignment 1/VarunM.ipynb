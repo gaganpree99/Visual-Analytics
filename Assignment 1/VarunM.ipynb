{
 "cells": [
  {
   "cell_type": "code",
   "execution_count": 1,
   "metadata": {
    "colab": {},
    "colab_type": "code",
    "id": "zc-JLXizdliQ"
   },
   "outputs": [],
   "source": [
    "import pandas as pd \n",
    "import seaborn as sb\n",
    "import matplotlib.pyplot as plt\n",
    "import matplotlib.ticker\n",
    "import numpy as np"
   ]
  },
  {
   "cell_type": "code",
   "execution_count": 2,
   "metadata": {
    "colab": {},
    "colab_type": "code",
    "id": "PGWzHGYodliU"
   },
   "outputs": [],
   "source": [
    "data = pd.read_csv(\"dataset1_dirty.csv\") "
   ]
  },
  {
   "cell_type": "code",
   "execution_count": 3,
   "metadata": {
    "colab": {
     "base_uri": "https://localhost:8080/",
     "height": 306
    },
    "colab_type": "code",
    "id": "KTAW31VrRgBY",
    "outputId": "7ddd2641-962a-4b7c-943c-f0033e7b271f"
   },
   "outputs": [
    {
     "data": {
      "text/html": [
       "<div>\n",
       "<style scoped>\n",
       "    .dataframe tbody tr th:only-of-type {\n",
       "        vertical-align: middle;\n",
       "    }\n",
       "\n",
       "    .dataframe tbody tr th {\n",
       "        vertical-align: top;\n",
       "    }\n",
       "\n",
       "    .dataframe thead th {\n",
       "        text-align: right;\n",
       "    }\n",
       "</style>\n",
       "<table border=\"1\" class=\"dataframe\">\n",
       "  <thead>\n",
       "    <tr style=\"text-align: right;\">\n",
       "      <th></th>\n",
       "      <th>age</th>\n",
       "      <th>workclass</th>\n",
       "      <th>fnlwgt</th>\n",
       "      <th>education</th>\n",
       "      <th>education-num</th>\n",
       "      <th>marital-status</th>\n",
       "      <th>occupation</th>\n",
       "      <th>relationship</th>\n",
       "      <th>race</th>\n",
       "      <th>sex</th>\n",
       "      <th>capital-gain</th>\n",
       "      <th>capital-loss</th>\n",
       "      <th>hours-per-week</th>\n",
       "      <th>native-country</th>\n",
       "      <th>salary</th>\n",
       "    </tr>\n",
       "  </thead>\n",
       "  <tbody>\n",
       "    <tr>\n",
       "      <th>0</th>\n",
       "      <td>39</td>\n",
       "      <td>State gov</td>\n",
       "      <td>77516</td>\n",
       "      <td>Bachelors</td>\n",
       "      <td>13</td>\n",
       "      <td>Never-married</td>\n",
       "      <td>dmclrical</td>\n",
       "      <td>Not-in-family</td>\n",
       "      <td>White</td>\n",
       "      <td>Male</td>\n",
       "      <td>0</td>\n",
       "      <td>0</td>\n",
       "      <td>40</td>\n",
       "      <td>United-States</td>\n",
       "      <td>&lt;=50K</td>\n",
       "    </tr>\n",
       "    <tr>\n",
       "      <th>1</th>\n",
       "      <td>50</td>\n",
       "      <td>Self-emp-not-inc</td>\n",
       "      <td>83311</td>\n",
       "      <td>Bachelors</td>\n",
       "      <td>13</td>\n",
       "      <td>Married-civ-spouse</td>\n",
       "      <td>Exec-managerial</td>\n",
       "      <td>Husband</td>\n",
       "      <td>White</td>\n",
       "      <td>Male</td>\n",
       "      <td>0</td>\n",
       "      <td>0</td>\n",
       "      <td>13</td>\n",
       "      <td>United-States</td>\n",
       "      <td>&lt;=50K</td>\n",
       "    </tr>\n",
       "    <tr>\n",
       "      <th>2</th>\n",
       "      <td>38</td>\n",
       "      <td>Private</td>\n",
       "      <td>215646</td>\n",
       "      <td>HS-grad</td>\n",
       "      <td>9</td>\n",
       "      <td>Divorced</td>\n",
       "      <td>Handlerscleaners</td>\n",
       "      <td>Not-in-family</td>\n",
       "      <td>White</td>\n",
       "      <td>Male</td>\n",
       "      <td>0</td>\n",
       "      <td>0</td>\n",
       "      <td>40</td>\n",
       "      <td>United-States</td>\n",
       "      <td>&lt;=50K</td>\n",
       "    </tr>\n",
       "    <tr>\n",
       "      <th>3</th>\n",
       "      <td>53</td>\n",
       "      <td>Private</td>\n",
       "      <td>234721</td>\n",
       "      <td>11th</td>\n",
       "      <td>7</td>\n",
       "      <td>Married-civ-spouse</td>\n",
       "      <td>Handlers-cleaners</td>\n",
       "      <td>Husband</td>\n",
       "      <td>Black</td>\n",
       "      <td>Male</td>\n",
       "      <td>0</td>\n",
       "      <td>0</td>\n",
       "      <td>40</td>\n",
       "      <td>United-States</td>\n",
       "      <td>&lt;=50K</td>\n",
       "    </tr>\n",
       "    <tr>\n",
       "      <th>4</th>\n",
       "      <td>28</td>\n",
       "      <td>private</td>\n",
       "      <td>338409</td>\n",
       "      <td>Bachelors</td>\n",
       "      <td>13</td>\n",
       "      <td>Married-civ-spouse</td>\n",
       "      <td>Profspecialty</td>\n",
       "      <td>Wife</td>\n",
       "      <td>Black</td>\n",
       "      <td>Female</td>\n",
       "      <td>0</td>\n",
       "      <td>0</td>\n",
       "      <td>40</td>\n",
       "      <td>Cuba</td>\n",
       "      <td>&lt;=50K</td>\n",
       "    </tr>\n",
       "  </tbody>\n",
       "</table>\n",
       "</div>"
      ],
      "text/plain": [
       "   age         workclass  fnlwgt  education  education-num  \\\n",
       "0   39         State gov   77516  Bachelors             13   \n",
       "1   50  Self-emp-not-inc   83311  Bachelors             13   \n",
       "2   38           Private  215646    HS-grad              9   \n",
       "3   53           Private  234721       11th              7   \n",
       "4   28           private  338409  Bachelors             13   \n",
       "\n",
       "       marital-status         occupation   relationship   race     sex  \\\n",
       "0       Never-married          dmclrical  Not-in-family  White    Male   \n",
       "1  Married-civ-spouse    Exec-managerial        Husband  White    Male   \n",
       "2            Divorced   Handlerscleaners  Not-in-family  White    Male   \n",
       "3  Married-civ-spouse  Handlers-cleaners        Husband  Black    Male   \n",
       "4  Married-civ-spouse      Profspecialty           Wife  Black  Female   \n",
       "\n",
       "   capital-gain  capital-loss  hours-per-week native-country salary  \n",
       "0             0             0              40  United-States  <=50K  \n",
       "1             0             0              13  United-States  <=50K  \n",
       "2             0             0              40  United-States  <=50K  \n",
       "3             0             0              40  United-States  <=50K  \n",
       "4             0             0              40           Cuba  <=50K  "
      ]
     },
     "execution_count": 3,
     "metadata": {},
     "output_type": "execute_result"
    }
   ],
   "source": [
    "data.head()"
   ]
  },
  {
   "cell_type": "code",
   "execution_count": 4,
   "metadata": {
    "colab": {},
    "colab_type": "code",
    "id": "bMIlN7LDmQAL"
   },
   "outputs": [],
   "source": [
    "data['id'] = data.index"
   ]
  },
  {
   "cell_type": "code",
   "execution_count": 12,
   "metadata": {
    "colab": {},
    "colab_type": "code",
    "id": "N4JxKwhBdlid"
   },
   "outputs": [],
   "source": [
    "# https://stackoverflow.com/questions/11264521/date-ticks-and-rotation-in-matplotlib\n",
    "def plotGraph(columnName):\n",
    "  cate = data.groupby(columnName)['id'].nunique()\n",
    "  xLabels = []\n",
    "  values = []\n",
    "  for index, val in cate.iteritems():\n",
    "    xLabels.append(index)\n",
    "    values.append(val)\n",
    "  plotData = pd.DataFrame({columnName: xLabels, 'count': values})\n",
    "  if columnName == 'fnlwgt'or columnName == 'capital-loss':\n",
    "    fnlWgtGrouping(columnName)\n",
    "  else:\n",
    "    if(data[columnName].dtypes == 'O'):\n",
    "      sb.set(rc={'figure.figsize':(len(xLabels)*1.25,10.5)})\n",
    "      ax = sb.barplot(x = columnName,  y = 'count', \n",
    "                      data = plotData, \n",
    "                      color = 'orange'\n",
    "                    )\n",
    "      ax.yaxis.set_major_locator(matplotlib.ticker.MultipleLocator(1500))\n",
    "\n",
    "      ax.set_xticklabels(ax.get_xticklabels(),rotation=45)\n",
    "    else:\n",
    "      sb.set(rc={'figure.figsize':(25,10.5)})\n",
    "      ax = sb.barplot(x = columnName, y = 'count', \n",
    "                      data = plotData, \n",
    "                      color = 'orange'\n",
    "                     )\n",
    "      ax.set_xticklabels(ax.get_xticklabels(),rotation=90)\n",
    "      plt.show()"
   ]
  },
  {
   "cell_type": "code",
   "execution_count": 13,
   "metadata": {
    "colab": {},
    "colab_type": "code",
    "id": "XtLxiJ0-6WWI"
   },
   "outputs": [],
   "source": [
    "def fnlWgtGrouping(columnName):\n",
    "  groupedColumn = columnName + \"_group\"\n",
    "  data[groupedColumn] = pd.cut(data[columnName],20, include_lowest=True)\n",
    "  plotGraph(groupedColumn)"
   ]
  },
  {
   "cell_type": "code",
   "execution_count": 14,
   "metadata": {
    "colab": {},
    "colab_type": "code",
    "id": "V87UdbPNdlig"
   },
   "outputs": [
    {
     "data": {
      "text/plain": [
       "Index(['age', 'workclass', 'fnlwgt', 'education', 'education-num',\n",
       "       'marital-status', 'occupation', 'relationship', 'race', 'sex',\n",
       "       'capital-gain', 'capital-loss', 'hours-per-week', 'native-country',\n",
       "       'salary', 'id', 'fnlwgt_group', 'capital-loss_group'],\n",
       "      dtype='object')"
      ]
     },
     "execution_count": 14,
     "metadata": {},
     "output_type": "execute_result"
    }
   ],
   "source": [
    "for column in data.columns:\n",
    "    plotGraph(column)\n"
   ]
  },
  {
   "cell_type": "code",
   "execution_count": 15,
   "metadata": {
    "colab": {
     "base_uri": "https://localhost:8080/",
     "height": 726
    },
    "colab_type": "code",
    "id": "7sZvC5H7tMHu",
    "outputId": "6490d9dc-f5c6-4663-f5c8-2e8cbdb5abe4"
   },
   "outputs": [
    {
     "data": {
      "image/png": "[encoded data removed]",
      "text/plain": [
       "<Figure size 1800x756 with 1 Axes>"
      ]
     },
     "metadata": {},
     "output_type": "display_data"
    }
   ],
   "source": [
    "plotGraph('age')"
   ]
  },
  {
   "cell_type": "code",
   "execution_count": 9,
   "metadata": {
    "colab": {
     "base_uri": "https://localhost:8080/",
     "height": 789
    },
    "colab_type": "code",
    "id": "pe6l6Wm9Hn2X",
    "outputId": "bf7d356c-3dc8-466f-9fb6-c748f659ec98"
   },
   "outputs": [
    {
     "data": {
      "image/png": "[encoded data removed]",
      "text/plain": [
       "<Figure size 1800x756 with 1 Axes>"
      ]
     },
     "metadata": {},
     "output_type": "display_data"
    }
   ],
   "source": [
    "plotGraph('fnlwgt')"
   ]
  },
  {
   "cell_type": "code",
   "execution_count": null,
   "metadata": {
    "colab": {},
    "colab_type": "code",
    "id": "ZNfM8aSqHxKS"
   },
   "outputs": [],
   "source": [
    "#education,education-num,"
   ]
  },
  {
   "cell_type": "code",
   "execution_count": null,
   "metadata": {
    "colab": {
     "base_uri": "https://localhost:8080/",
     "height": 694
    },
    "colab_type": "code",
    "id": "bUajB6TdPcc7",
    "outputId": "ec230a1c-5c93-401a-cc65-9040bbb433f0"
   },
   "outputs": [],
   "source": [
    "plotGraph('education')"
   ]
  },
  {
   "cell_type": "code",
   "execution_count": null,
   "metadata": {
    "colab": {
     "base_uri": "https://localhost:8080/",
     "height": 731
    },
    "colab_type": "code",
    "id": "p_7dyvpoQeHx",
    "outputId": "ff9a14b2-41d0-40ab-ae24-d14b1d368af9"
   },
   "outputs": [],
   "source": [
    "plotGraph('marital-status') "
   ]
  },
  {
   "cell_type": "code",
   "execution_count": null,
   "metadata": {
    "colab": {
     "base_uri": "https://localhost:8080/",
     "height": 734
    },
    "colab_type": "code",
    "id": "reOM3zQtRIwB",
    "outputId": "f88747b7-739a-49ae-80ba-28ffadc7b339"
   },
   "outputs": [],
   "source": [
    "plotGraph('occupation') \n"
   ]
  },
  {
   "cell_type": "code",
   "execution_count": null,
   "metadata": {
    "colab": {
     "base_uri": "https://localhost:8080/",
     "height": 696
    },
    "colab_type": "code",
    "id": "WXfmbm_XULXZ",
    "outputId": "24bac79c-cdb6-45f1-d1b5-80cc8b887f98"
   },
   "outputs": [],
   "source": [
    "plotGraph('relationship')\n"
   ]
  },
  {
   "cell_type": "code",
   "execution_count": null,
   "metadata": {
    "colab": {
     "base_uri": "https://localhost:8080/",
     "height": 720
    },
    "colab_type": "code",
    "id": "xngAbkDvUB9e",
    "outputId": "c2085f39-e6d9-48f9-f2e1-47ead2d69f01"
   },
   "outputs": [],
   "source": [
    "plotGraph('race')\n"
   ]
  },
  {
   "cell_type": "code",
   "execution_count": null,
   "metadata": {
    "colab": {
     "base_uri": "https://localhost:8080/",
     "height": 670
    },
    "colab_type": "code",
    "id": "OINsiMcqUfSo",
    "outputId": "197b5b91-7263-44aa-a49d-8bd3acdc1102"
   },
   "outputs": [],
   "source": [
    "plotGraph('sex')\n"
   ]
  },
  {
   "cell_type": "code",
   "execution_count": null,
   "metadata": {
    "colab": {
     "base_uri": "https://localhost:8080/",
     "height": 661
    },
    "colab_type": "code",
    "id": "cyyS6M0SUlup",
    "outputId": "6276c362-f48c-4d90-a1ae-25b123f16614"
   },
   "outputs": [],
   "source": [
    "plotGraph('capital-gain')"
   ]
  },
  {
   "cell_type": "code",
   "execution_count": null,
   "metadata": {
    "colab": {
     "base_uri": "https://localhost:8080/",
     "height": 747
    },
    "colab_type": "code",
    "id": "Dgy7860EUtnr",
    "outputId": "7b6543ef-eb4f-4db1-810b-4edcbd0498d6"
   },
   "outputs": [],
   "source": [
    "plotGraph('capital-loss')"
   ]
  },
  {
   "cell_type": "markdown",
   "metadata": {
    "colab_type": "text",
    "id": "KOnQOWa0Zjjm"
   },
   "source": [
    "Processing column ***AGE***"
   ]
  },
  {
   "cell_type": "code",
   "execution_count": null,
   "metadata": {
    "colab": {
     "base_uri": "https://localhost:8080/",
     "height": 668
    },
    "colab_type": "code",
    "id": "2_sPcBQ1cGbC",
    "outputId": "1db4f8ab-0a5e-43b4-a8f1-d45f3f415b19"
   },
   "outputs": [],
   "source": [
    "plotGraph('hours-per-week')"
   ]
  },
  {
   "cell_type": "code",
   "execution_count": null,
   "metadata": {
    "colab": {
     "base_uri": "https://localhost:8080/",
     "height": 773
    },
    "colab_type": "code",
    "id": "nqPQdwQIcZOP",
    "outputId": "e53e185a-dc59-4e99-aa81-7b85f1041c3e"
   },
   "outputs": [],
   "source": [
    "plotGraph('native-country')"
   ]
  },
  {
   "cell_type": "code",
   "execution_count": null,
   "metadata": {
    "colab": {
     "base_uri": "https://localhost:8080/",
     "height": 677
    },
    "colab_type": "code",
    "id": "yOQ7B8ZFdFyV",
    "outputId": "e505e8af-f60a-4002-e843-10003de64de3"
   },
   "outputs": [],
   "source": [
    "plotGraph('salary')"
   ]
  },
  {
   "cell_type": "code",
   "execution_count": null,
   "metadata": {
    "colab": {},
    "colab_type": "code",
    "id": "nERoDIFNxHa3"
   },
   "outputs": [],
   "source": [
    "process_data = pd.DataFrame()\n",
    "process_data['sex'] = data['sex']\n",
    "process_data['race'] = data['race']\n",
    "process_data['marital-status'] = data['marital-status']\n",
    "process_data['hours-per-week'] = data['hours-per-week']\n",
    "process_data['native-country'] = data['native-country']\n",
    "process_data['fnlwgt'] = data['fnlwgt']\n",
    "process_data['education'] = data['education']\n",
    "process_data['relationship'] = data['relationship']\n",
    "process_data['capital-loss'] = data['capital-loss']\n",
    "\n",
    "\n",
    " "
   ]
  },
  {
   "cell_type": "code",
   "execution_count": null,
   "metadata": {
    "colab": {},
    "colab_type": "code",
    "id": "1I542I20a003"
   },
   "outputs": [],
   "source": [
    "process_data['age'] = data['age'].where(data['age'] >= 0, 'unknown')"
   ]
  },
  {
   "cell_type": "code",
   "execution_count": null,
   "metadata": {
    "colab": {
     "base_uri": "https://localhost:8080/",
     "height": 1000
    },
    "colab_type": "code",
    "id": "VQDfruSVXyUn",
    "outputId": "e2921df5-a0bc-472a-c7eb-6451bdb5f2a0"
   },
   "outputs": [],
   "source": [
    "process_data"
   ]
  },
  {
   "cell_type": "markdown",
   "metadata": {
    "colab_type": "text",
    "id": "n1baLvcDZy3Y"
   },
   "source": [
    "Processing Column **workclass**"
   ]
  },
  {
   "cell_type": "code",
   "execution_count": null,
   "metadata": {
    "colab": {
     "base_uri": "https://localhost:8080/",
     "height": 391
    },
    "colab_type": "code",
    "id": "-c7HVI_CwuRl",
    "outputId": "ab132eec-61af-4bce-aea8-cd4e834aeba8"
   },
   "outputs": [],
   "source": [
    "data['workclass'].unique()"
   ]
  },
  {
   "cell_type": "code",
   "execution_count": null,
   "metadata": {
    "colab": {},
    "colab_type": "code",
    "id": "wJZS9JEF3Cjg"
   },
   "outputs": [],
   "source": [
    "# https://pandas.pydata.org/pandas-docs/stable/reference/api/pandas.Series.str.replace.html\n",
    "import re \n",
    "workClassValues = ['Private', 'Federal-gov', 'Local-gov', 'State-gov', 'Without-pay', 'Never-worked','Self-emp-inc','Self-emp-not-inc']\n",
    "checkDic = {}\n",
    "checkDic['Self-emp-not-inc'] = 'Self-emp-not inc|Self emp-not-inc|Self-emp-notinc|Selfemp-not-inc|Self empnot-inc|Self emp-not inc|Selfemp-not- nc|Selfemp- ot-inc|Selfemp-ot-inc|Self emp not-inc|Self emp-notinc|Selfemp-ot-ic|Selfemp-not-nc|Selfemp- ot-nc|Self empnot- nc|Selfemp-ot-i c|selfemp-not-inc|selfemp-not-nc|self-emp-not-inc|Self-emp not-inc|Self-empnot- nc|Self-empnot-nc|self-emp not-inc|selfemp- ot-inc|self-emp-notinc|self-emp-not inc|Self-emp not inc|Self-emp notinc|self-empnot-inc|self emp-not-inc|selfemp-ot-inc|self-emp notinc|selfemp-not- nc|self emp not-inc|self-emp not inc|Self-empnot-inc'\n",
    "checkDic['Private'] = 'Private|private'\n",
    "checkDic['Self-emp-inc'] = 'Self emp inc|Self emp-inc|Self empinc|Selfemp- nc|Selfemp-inc|Selfemp-nc|Self-emp inc|selfemp-inc|Self-empinc|self emp-inc|self-emp inc|self-empinc|self emp inc|self-emp-inc'\n",
    "checkDic['Federal-gov'] = 'Federal gov|Federalgov|Federal-gov|federal gov|federal-gov|federalgov'\n",
    "checkDic['Local-gov'] = 'Localgov|Local-gov|Local gov|local gov|localgov|local-gov'\n",
    "checkDic['State-gov'] = 'State-gov|Stategov|State gov|state gov|stategov|state gov|state-gov'\n",
    "checkDic['Without-gov'] = 'Without-gov|Withoutgov|Without gov|without gov|without-gov|withoutgov'\n",
    "checkDic['Never-worked'] = 'Neverworked|Never worked|Never-worked'\n",
    "checkDic['Without-pay'] = 'Without-pay|Withoutpay|Without pay|without-pay|without pay|withoutpay'\n",
    "\n",
    "\n",
    "for index in range(len(workClassValues)):\n",
    "  data['workclass'] = pd.Series(data['workclass'].str.replace(checkDic[workClassValues[index]], workClassValues[index], regex=True))\n",
    "\n",
    "process_data['workclass'] = data['workclass'] "
   ]
  },
  {
   "cell_type": "code",
   "execution_count": null,
   "metadata": {
    "colab": {
     "base_uri": "https://localhost:8080/",
     "height": 706
    },
    "colab_type": "code",
    "id": "JLg6lXKfbrYO",
    "outputId": "d3cfbed5-3180-484d-9455-d78f553b35dd"
   },
   "outputs": [],
   "source": [
    "plotGraph('workclass')"
   ]
  },
  {
   "cell_type": "markdown",
   "metadata": {
    "colab_type": "text",
    "id": "uA6PcPayZ8pY"
   },
   "source": [
    "Processing Column **Occupation**"
   ]
  },
  {
   "cell_type": "code",
   "execution_count": null,
   "metadata": {
    "colab": {
     "base_uri": "https://localhost:8080/",
     "height": 85
    },
    "colab_type": "code",
    "id": "mjUXMdG8OaNs",
    "outputId": "1edefef8-e3dc-46d7-b6b2-1735829048cf"
   },
   "outputs": [],
   "source": [
    "data['occupation'].unique()"
   ]
  },
  {
   "cell_type": "code",
   "execution_count": null,
   "metadata": {
    "colab": {},
    "colab_type": "code",
    "id": "carP_RhfszqU"
   },
   "outputs": [],
   "source": [
    "occupationValues = ['Tech-support','Transport-moving','Adm-clerical','Exec-managerial','Handlers-cleaners','Sales','Farming-fishing','Machine-op-inspct','Other-service','Prof-specialty','Craft-repair','Armed-Forces']\n",
    "checkDic = {}\n",
    "checkDic['Tech-support'] = '^Tec.*[ort]*$|^tec.*[ort]*$|^[T|t]*[ec].*[ort]*$'\n",
    "checkDic['Transport-moving'] = '^Tra.*[ing]*$|^tra*.*[ing]*$|^[T|t]*[ra].*[ing]*$'\n",
    "checkDic['Adm-clerical'] ='^Adm.*[cal]*$|^adm*.*[cal]*$|^[A|a]*[dm].*[ing]*$'\n",
    "checkDic['Exec-managerial'] = '^Exec.*[ial]*$|^exec*.*[ial]*$|^[E|e]*[xec].*[ial]*$'\n",
    "checkDic['Handlers-cleaners'] = '^Hand.*[ers]*$|^hand*.*[ers]*$|^[H|h]*[and].*[ers]*$' \n",
    "checkDic['Sales'] ='^[Sa|sa]+.*[les]*$'\n",
    "checkDic['Farming-fishing'] ='^Far.*[ing]*$|^far*.*[ing]*$|^[F|f]*[ar].*[ing]*$'\n",
    "checkDic['Machine-op-inspct'] = '^Mac.*[pct]*$|^mac*.*[pct]*$|^[M|m]*[ac].*[pct]*$'\n",
    "checkDic['Other-service'] = '^Oth.*[ice]*$|^oth*.*[ice]*$|^[O|o]*[th].*[ice]*$'\n",
    "checkDic['Prof-specialty'] = 'Pro.*[lty]*$|^pro*.*[lty]*$|^[P|p]*[ro].*[lty]*$'\n",
    "checkDic['Craft-repair']  = '^Cra.*[air]*$|^cra*.*[air]*$|^[C|c]*[ra].*[air]*$'\n",
    "checkDic['Armed-Forces']  = '^Arm.*[ces]*$|^arm*.*[ces]*$|^[A|a]*[rm].*[ces]*$'\n",
    "for index in range(len(occupationValues)):\n",
    "  data['occupation'] = pd.Series(data['occupation'].str.replace(checkDic[occupationValues[index]], occupationValues[index], regex=True))\n",
    "\n",
    "process_data['occupation'] = data['occupation']"
   ]
  },
  {
   "cell_type": "code",
   "execution_count": null,
   "metadata": {
    "colab": {
     "base_uri": "https://localhost:8080/",
     "height": 713
    },
    "colab_type": "code",
    "id": "8hnI2ErmMJnG",
    "outputId": "72b2aafb-530b-44bb-fe8e-0b991d58a0ec"
   },
   "outputs": [],
   "source": [
    "plotGraph('occupation')"
   ]
  },
  {
   "cell_type": "markdown",
   "metadata": {
    "colab_type": "text",
    "id": "ZVvhnPe-HvC6"
   },
   "source": [
    "Processing education number"
   ]
  },
  {
   "cell_type": "code",
   "execution_count": null,
   "metadata": {
    "colab": {},
    "colab_type": "code",
    "id": "GyElt-eyOrMO"
   },
   "outputs": [],
   "source": [
    "educationClass= ['Preschool','1st-4th','5th-6th','7th-8th','9th','10th','11th','12th','Bachelors','HS-grad','Masters','Doctorate','Some-college','Prof-school','Assoc-acdm','Assoc-voc']"
   ]
  },
  {
   "cell_type": "code",
   "execution_count": null,
   "metadata": {
    "colab": {},
    "colab_type": "code",
    "id": "9Gn3DWGJVbyP"
   },
   "outputs": [],
   "source": [
    "\n",
    "for i in range(len(educationClass)):\n",
    "  data.loc[data['education'] == educationClass[i] , 'num'] = i+1\n",
    "\n",
    "data['num']=data['num'].astype(int)\n",
    "process_data['education-num'] = data['num']"
   ]
  },
  {
   "cell_type": "code",
   "execution_count": null,
   "metadata": {
    "colab": {},
    "colab_type": "code",
    "id": "-1BEifl8V72g"
   },
   "outputs": [],
   "source": [
    "data['salary'] = data['salary'].replace('?', 'unknown')\n",
    "process_data['salary'] = data['salary']"
   ]
  },
  {
   "cell_type": "code",
   "execution_count": null,
   "metadata": {
    "colab": {
     "base_uri": "https://localhost:8080/",
     "height": 289
    },
    "colab_type": "code",
    "id": "zyAQVKuoV90T",
    "outputId": "ab829f4c-0160-443f-bd72-ef0ef0f8cfdc"
   },
   "outputs": [],
   "source": [
    "process_data.head()"
   ]
  }
 ],
 "metadata": {
  "colab": {
   "collapsed_sections": [],
   "name": "Assignment1.ipynb",
   "provenance": []
  },
  "kernelspec": {
   "display_name": "Python 3",
   "language": "python",
   "name": "python3"
  },
  "language_info": {
   "codemirror_mode": {
    "name": "ipython",
    "version": 3
   },
   "file_extension": ".py",
   "mimetype": "text/x-python",
   "name": "python",
   "nbconvert_exporter": "python",
   "pygments_lexer": "ipython3",
   "version": "3.7.3"
  }
 },
 "nbformat": 4,
 "nbformat_minor": 4
}
